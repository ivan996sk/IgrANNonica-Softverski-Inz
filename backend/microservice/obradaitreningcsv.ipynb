{
 "cells": [
  {
   "cell_type": "code",
   "execution_count": 1,
   "metadata": {},
   "outputs": [],
   "source": [
    "from matplotlib.pyplot import axis\n",
    "import pandas as pd\n",
    "import tensorflow as tf\n",
    "import numpy as np\n",
    "import seaborn as sb\n",
    "import keras as k\n",
    "from sklearn.model_selection import train_test_split \n"
   ]
  },
  {
   "cell_type": "code",
   "execution_count": 4,
   "metadata": {},
   "outputs": [],
   "source": [
    "data=pd.read_csv('winequality.csv')"
   ]
  },
  {
   "cell_type": "code",
   "execution_count": 5,
   "metadata": {},
   "outputs": [
    {
     "name": "stdout",
     "output_type": "stream",
     "text": [
      "fixed acidity           False\n",
      "volatile acidity        False\n",
      "citric acid             False\n",
      "residual sugar          False\n",
      "chlorides               False\n",
      "free sulfur dioxide     False\n",
      "total sulfur dioxide    False\n",
      "density                 False\n",
      "pH                      False\n",
      "sulphates               False\n",
      "alcohol                 False\n",
      "quality                 False\n",
      "dtype: bool\n"
     ]
    }
   ],
   "source": [
    "print(data.isnull().any())"
   ]
  },
  {
   "cell_type": "code",
   "execution_count": 6,
   "metadata": {},
   "outputs": [
    {
     "name": "stdout",
     "output_type": "stream",
     "text": [
      "<class 'pandas.core.frame.DataFrame'>\n",
      "RangeIndex: 1599 entries, 0 to 1598\n",
      "Data columns (total 12 columns):\n",
      " #   Column                Non-Null Count  Dtype  \n",
      "---  ------                --------------  -----  \n",
      " 0   fixed acidity         1599 non-null   float64\n",
      " 1   volatile acidity      1599 non-null   float64\n",
      " 2   citric acid           1599 non-null   float64\n",
      " 3   residual sugar        1599 non-null   float64\n",
      " 4   chlorides             1599 non-null   float64\n",
      " 5   free sulfur dioxide   1599 non-null   float64\n",
      " 6   total sulfur dioxide  1599 non-null   float64\n",
      " 7   density               1599 non-null   float64\n",
      " 8   pH                    1599 non-null   float64\n",
      " 9   sulphates             1599 non-null   float64\n",
      " 10  alcohol               1599 non-null   float64\n",
      " 11  quality               1599 non-null   int64  \n",
      "dtypes: float64(11), int64(1)\n",
      "memory usage: 150.0 KB\n",
      "None\n"
     ]
    }
   ],
   "source": [
    "print(data.info())"
   ]
  },
  {
   "cell_type": "code",
   "execution_count": 7,
   "metadata": {},
   "outputs": [
    {
     "name": "stdout",
     "output_type": "stream",
     "text": [
      "0    5\n",
      "1    5\n",
      "2    5\n",
      "3    6\n",
      "4    5\n",
      "5    5\n",
      "6    5\n",
      "7    7\n",
      "8    7\n",
      "9    5\n",
      "Name: quality, dtype: int64\n",
      "   fixed acidity  volatile acidity  citric acid  residual sugar  chlorides  \\\n",
      "0            7.4              0.70         0.00             1.9      0.076   \n",
      "1            7.8              0.88         0.00             2.6      0.098   \n",
      "2            7.8              0.76         0.04             2.3      0.092   \n",
      "3           11.2              0.28         0.56             1.9      0.075   \n",
      "4            7.4              0.70         0.00             1.9      0.076   \n",
      "5            7.4              0.66         0.00             1.8      0.075   \n",
      "6            7.9              0.60         0.06             1.6      0.069   \n",
      "7            7.3              0.65         0.00             1.2      0.065   \n",
      "8            7.8              0.58         0.02             2.0      0.073   \n",
      "9            7.5              0.50         0.36             6.1      0.071   \n",
      "\n",
      "   free sulfur dioxide  total sulfur dioxide  density    pH  sulphates  \\\n",
      "0                 11.0                  34.0   0.9978  3.51       0.56   \n",
      "1                 25.0                  67.0   0.9968  3.20       0.68   \n",
      "2                 15.0                  54.0   0.9970  3.26       0.65   \n",
      "3                 17.0                  60.0   0.9980  3.16       0.58   \n",
      "4                 11.0                  34.0   0.9978  3.51       0.56   \n",
      "5                 13.0                  40.0   0.9978  3.51       0.56   \n",
      "6                 15.0                  59.0   0.9964  3.30       0.46   \n",
      "7                 15.0                  21.0   0.9946  3.39       0.47   \n",
      "8                  9.0                  18.0   0.9968  3.36       0.57   \n",
      "9                 17.0                 102.0   0.9978  3.35       0.80   \n",
      "\n",
      "   alcohol  \n",
      "0      9.4  \n",
      "1      9.8  \n",
      "2      9.8  \n",
      "3      9.8  \n",
      "4      9.4  \n",
      "5      9.4  \n",
      "6      9.4  \n",
      "7     10.0  \n",
      "8      9.5  \n",
      "9     10.5  \n"
     ]
    }
   ],
   "source": [
    "y=data.pop('quality')\n",
    "x=data\n",
    "\n",
    "x_train,x_test,y_train,y_test=train_test_split(x,y,train_size=0.7,random_state=50)\n",
    "\n",
    "print(y.head(10))\n",
    "print(x.head(10))"
   ]
  },
  {
   "cell_type": "code",
   "execution_count": 8,
   "metadata": {},
   "outputs": [],
   "source": [
    "normalizer=tf.keras.layers.Normalization(axis=-1)"
   ]
  },
  {
   "cell_type": "code",
   "execution_count": 9,
   "metadata": {},
   "outputs": [],
   "source": [
    "normalizer.adapt(np.array(x_train))"
   ]
  },
  {
   "cell_type": "code",
   "execution_count": 10,
   "metadata": {},
   "outputs": [],
   "source": [
    "alcohol=np.array(x_train['alcohol'])\n",
    "alcohol_normalizer=tf.keras.layers.Normalization(input_shape=[1,],axis=None)\n",
    "alcohol_normalizer=alcohol_normalizer.adapt(alcohol)"
   ]
  },
  {
   "cell_type": "code",
   "execution_count": 48,
   "metadata": {},
   "outputs": [],
   "source": [
    "alcohol_model = tf.keras.models.Sequential()\n",
    "alcohol_model.add(tf.keras.layers.Dense(input_dim=11, units=100, activation='relu'))\n",
    "\n"
   ]
  },
  {
   "cell_type": "code",
   "execution_count": 49,
   "metadata": {},
   "outputs": [],
   "source": [
    "alcohol_model.compile(\n",
    "    optimizer=tf.optimizers.Adam(learning_rate=0.1),\n",
    "    loss='mean_absolute_error'\n",
    ")"
   ]
  },
  {
   "cell_type": "code",
   "execution_count": 50,
   "metadata": {},
   "outputs": [
    {
     "name": "stdout",
     "output_type": "stream",
     "text": [
      "Epoch 1/100\n",
      "28/28 [==============================] - 0s 5ms/step - loss: 3.2390 - val_loss: 2.5426\n",
      "Epoch 2/100\n",
      "28/28 [==============================] - 0s 3ms/step - loss: 2.4418 - val_loss: 2.3977\n",
      "Epoch 3/100\n",
      "28/28 [==============================] - 0s 2ms/step - loss: 2.3838 - val_loss: 2.3266\n",
      "Epoch 4/100\n",
      "28/28 [==============================] - 0s 3ms/step - loss: 2.3546 - val_loss: 2.3361\n",
      "Epoch 5/100\n",
      "28/28 [==============================] - 0s 2ms/step - loss: 2.3218 - val_loss: 2.2931\n",
      "Epoch 6/100\n",
      "28/28 [==============================] - 0s 3ms/step - loss: 2.3508 - val_loss: 2.2979\n",
      "Epoch 7/100\n",
      "28/28 [==============================] - 0s 3ms/step - loss: 2.3198 - val_loss: 2.3019\n",
      "Epoch 8/100\n",
      "28/28 [==============================] - 0s 3ms/step - loss: 2.3683 - val_loss: 2.3992\n",
      "Epoch 9/100\n",
      "28/28 [==============================] - 0s 3ms/step - loss: 2.3907 - val_loss: 2.4212\n",
      "Epoch 10/100\n",
      "28/28 [==============================] - 0s 3ms/step - loss: 2.3593 - val_loss: 2.3958\n",
      "Epoch 11/100\n",
      "28/28 [==============================] - 0s 3ms/step - loss: 2.3772 - val_loss: 2.3542\n",
      "Epoch 12/100\n",
      "28/28 [==============================] - 0s 2ms/step - loss: 2.3353 - val_loss: 2.3437\n",
      "Epoch 13/100\n",
      "28/28 [==============================] - 0s 4ms/step - loss: 2.3947 - val_loss: 2.3969\n",
      "Epoch 14/100\n",
      "28/28 [==============================] - 0s 3ms/step - loss: 2.3660 - val_loss: 2.3823\n",
      "Epoch 15/100\n",
      "28/28 [==============================] - 0s 3ms/step - loss: 2.3374 - val_loss: 2.3699\n",
      "Epoch 16/100\n",
      "28/28 [==============================] - 0s 3ms/step - loss: 2.3862 - val_loss: 2.3677\n",
      "Epoch 17/100\n",
      "28/28 [==============================] - 0s 3ms/step - loss: 2.3393 - val_loss: 2.2889\n",
      "Epoch 18/100\n",
      "28/28 [==============================] - 0s 2ms/step - loss: 2.3500 - val_loss: 2.4911\n",
      "Epoch 19/100\n",
      "28/28 [==============================] - 0s 2ms/step - loss: 2.3905 - val_loss: 2.3490\n",
      "Epoch 20/100\n",
      "28/28 [==============================] - 0s 2ms/step - loss: 2.3631 - val_loss: 2.3380\n",
      "Epoch 21/100\n",
      "28/28 [==============================] - 0s 2ms/step - loss: 2.3155 - val_loss: 2.5694\n",
      "Epoch 22/100\n",
      "28/28 [==============================] - 0s 2ms/step - loss: 2.4091 - val_loss: 2.2998\n",
      "Epoch 23/100\n",
      "28/28 [==============================] - 0s 2ms/step - loss: 2.3569 - val_loss: 2.3790\n",
      "Epoch 24/100\n",
      "28/28 [==============================] - 0s 2ms/step - loss: 2.3409 - val_loss: 2.3120\n",
      "Epoch 25/100\n",
      "28/28 [==============================] - 0s 2ms/step - loss: 2.3285 - val_loss: 2.3552\n",
      "Epoch 26/100\n",
      "28/28 [==============================] - 0s 2ms/step - loss: 2.3403 - val_loss: 2.3427\n",
      "Epoch 27/100\n",
      "28/28 [==============================] - 0s 3ms/step - loss: 2.3078 - val_loss: 2.3340\n",
      "Epoch 28/100\n",
      "28/28 [==============================] - 0s 2ms/step - loss: 2.3293 - val_loss: 2.4440\n",
      "Epoch 29/100\n",
      "28/28 [==============================] - 0s 2ms/step - loss: 2.3468 - val_loss: 2.2857\n",
      "Epoch 30/100\n",
      "28/28 [==============================] - 0s 2ms/step - loss: 2.3323 - val_loss: 2.3261\n",
      "Epoch 31/100\n",
      "28/28 [==============================] - 0s 2ms/step - loss: 2.3532 - val_loss: 2.3838\n",
      "Epoch 32/100\n",
      "28/28 [==============================] - 0s 2ms/step - loss: 2.3031 - val_loss: 2.3436\n",
      "Epoch 33/100\n",
      "28/28 [==============================] - 0s 2ms/step - loss: 2.3755 - val_loss: 2.3305\n",
      "Epoch 34/100\n",
      "28/28 [==============================] - 0s 2ms/step - loss: 2.4398 - val_loss: 2.3591\n",
      "Epoch 35/100\n",
      "28/28 [==============================] - 0s 2ms/step - loss: 2.3882 - val_loss: 2.3554\n",
      "Epoch 36/100\n",
      "28/28 [==============================] - 0s 2ms/step - loss: 2.3765 - val_loss: 2.5028\n",
      "Epoch 37/100\n",
      "28/28 [==============================] - 0s 2ms/step - loss: 2.3764 - val_loss: 2.2674\n",
      "Epoch 38/100\n",
      "28/28 [==============================] - 0s 2ms/step - loss: 2.4234 - val_loss: 2.4326\n",
      "Epoch 39/100\n",
      "28/28 [==============================] - 0s 2ms/step - loss: 2.3838 - val_loss: 2.3662\n",
      "Epoch 40/100\n",
      "28/28 [==============================] - 0s 2ms/step - loss: 2.3232 - val_loss: 2.3354\n",
      "Epoch 41/100\n",
      "28/28 [==============================] - 0s 2ms/step - loss: 2.3284 - val_loss: 2.3060\n",
      "Epoch 42/100\n",
      "28/28 [==============================] - 0s 2ms/step - loss: 2.2972 - val_loss: 2.3030\n",
      "Epoch 43/100\n",
      "28/28 [==============================] - 0s 3ms/step - loss: 2.3795 - val_loss: 2.2788\n",
      "Epoch 44/100\n",
      "28/28 [==============================] - 0s 2ms/step - loss: 2.3426 - val_loss: 2.4253\n",
      "Epoch 45/100\n",
      "28/28 [==============================] - 0s 2ms/step - loss: 2.3658 - val_loss: 2.3137\n",
      "Epoch 46/100\n",
      "28/28 [==============================] - 0s 3ms/step - loss: 2.3441 - val_loss: 2.3908\n",
      "Epoch 47/100\n",
      "28/28 [==============================] - 0s 2ms/step - loss: 2.3660 - val_loss: 2.3661\n",
      "Epoch 48/100\n",
      "28/28 [==============================] - 0s 2ms/step - loss: 2.3679 - val_loss: 2.4015\n",
      "Epoch 49/100\n",
      "28/28 [==============================] - 0s 2ms/step - loss: 2.3980 - val_loss: 2.2734\n",
      "Epoch 50/100\n",
      "28/28 [==============================] - 0s 2ms/step - loss: 2.3172 - val_loss: 2.2789\n",
      "Epoch 51/100\n",
      "28/28 [==============================] - 0s 2ms/step - loss: 2.3712 - val_loss: 2.4158\n",
      "Epoch 52/100\n",
      "28/28 [==============================] - 0s 2ms/step - loss: 2.3482 - val_loss: 2.4234\n",
      "Epoch 53/100\n",
      "28/28 [==============================] - 0s 2ms/step - loss: 2.3460 - val_loss: 2.3237\n",
      "Epoch 54/100\n",
      "28/28 [==============================] - 0s 2ms/step - loss: 2.3464 - val_loss: 2.3347\n",
      "Epoch 55/100\n",
      "28/28 [==============================] - 0s 2ms/step - loss: 2.3212 - val_loss: 2.3744\n",
      "Epoch 56/100\n",
      "28/28 [==============================] - 0s 2ms/step - loss: 2.4494 - val_loss: 2.4416\n",
      "Epoch 57/100\n",
      "28/28 [==============================] - 0s 2ms/step - loss: 2.3685 - val_loss: 2.3786\n",
      "Epoch 58/100\n",
      "28/28 [==============================] - 0s 2ms/step - loss: 2.3238 - val_loss: 2.3690\n",
      "Epoch 59/100\n",
      "28/28 [==============================] - 0s 2ms/step - loss: 2.3290 - val_loss: 2.3558\n",
      "Epoch 60/100\n",
      "28/28 [==============================] - 0s 2ms/step - loss: 2.2945 - val_loss: 2.3152\n",
      "Epoch 61/100\n",
      "28/28 [==============================] - 0s 2ms/step - loss: 2.3685 - val_loss: 2.3844\n",
      "Epoch 62/100\n",
      "28/28 [==============================] - 0s 2ms/step - loss: 2.3706 - val_loss: 2.3879\n",
      "Epoch 63/100\n",
      "28/28 [==============================] - 0s 2ms/step - loss: 2.3617 - val_loss: 2.3169\n",
      "Epoch 64/100\n",
      "28/28 [==============================] - 0s 2ms/step - loss: 2.3492 - val_loss: 2.3538\n",
      "Epoch 65/100\n",
      "28/28 [==============================] - 0s 2ms/step - loss: 2.3171 - val_loss: 2.3248\n",
      "Epoch 66/100\n",
      "28/28 [==============================] - 0s 2ms/step - loss: 2.3519 - val_loss: 2.3258\n",
      "Epoch 67/100\n",
      "28/28 [==============================] - 0s 2ms/step - loss: 2.3455 - val_loss: 2.4234\n",
      "Epoch 68/100\n",
      "28/28 [==============================] - 0s 2ms/step - loss: 2.3749 - val_loss: 2.3730\n",
      "Epoch 69/100\n",
      "28/28 [==============================] - 0s 2ms/step - loss: 2.3214 - val_loss: 2.3482\n",
      "Epoch 70/100\n",
      "28/28 [==============================] - 0s 2ms/step - loss: 2.3555 - val_loss: 2.3381\n",
      "Epoch 71/100\n",
      "28/28 [==============================] - 0s 2ms/step - loss: 2.3340 - val_loss: 2.3827\n",
      "Epoch 72/100\n",
      "28/28 [==============================] - 0s 2ms/step - loss: 2.3381 - val_loss: 2.3250\n",
      "Epoch 73/100\n",
      "28/28 [==============================] - 0s 2ms/step - loss: 2.2971 - val_loss: 2.3090\n",
      "Epoch 74/100\n",
      "28/28 [==============================] - 0s 4ms/step - loss: 2.3481 - val_loss: 2.3699\n",
      "Epoch 75/100\n",
      "28/28 [==============================] - 0s 2ms/step - loss: 2.3503 - val_loss: 2.2994\n",
      "Epoch 76/100\n",
      "28/28 [==============================] - 0s 2ms/step - loss: 2.3147 - val_loss: 2.4079\n",
      "Epoch 77/100\n",
      "28/28 [==============================] - 0s 2ms/step - loss: 2.4143 - val_loss: 2.4446\n",
      "Epoch 78/100\n",
      "28/28 [==============================] - 0s 2ms/step - loss: 2.3824 - val_loss: 2.3323\n",
      "Epoch 79/100\n",
      "28/28 [==============================] - 0s 2ms/step - loss: 2.3369 - val_loss: 2.3382\n",
      "Epoch 80/100\n",
      "28/28 [==============================] - 0s 2ms/step - loss: 2.3366 - val_loss: 2.3542\n",
      "Epoch 81/100\n",
      "28/28 [==============================] - 0s 2ms/step - loss: 2.3614 - val_loss: 2.3811\n",
      "Epoch 82/100\n",
      "28/28 [==============================] - 0s 2ms/step - loss: 2.3423 - val_loss: 2.3483\n",
      "Epoch 83/100\n",
      "28/28 [==============================] - 0s 2ms/step - loss: 2.4029 - val_loss: 2.3844\n",
      "Epoch 84/100\n",
      "28/28 [==============================] - 0s 2ms/step - loss: 2.3726 - val_loss: 2.3316\n",
      "Epoch 85/100\n",
      "28/28 [==============================] - 0s 2ms/step - loss: 2.2985 - val_loss: 2.2900\n",
      "Epoch 86/100\n",
      "28/28 [==============================] - 0s 2ms/step - loss: 2.3137 - val_loss: 2.2679\n",
      "Epoch 87/100\n",
      "28/28 [==============================] - 0s 2ms/step - loss: 2.3316 - val_loss: 2.3294\n",
      "Epoch 88/100\n",
      "28/28 [==============================] - 0s 2ms/step - loss: 2.3564 - val_loss: 2.2853\n",
      "Epoch 89/100\n",
      "28/28 [==============================] - 0s 2ms/step - loss: 2.3279 - val_loss: 2.2747\n",
      "Epoch 90/100\n",
      "28/28 [==============================] - 0s 2ms/step - loss: 2.3132 - val_loss: 2.3006\n",
      "Epoch 91/100\n",
      "28/28 [==============================] - 0s 2ms/step - loss: 2.3021 - val_loss: 2.3415\n",
      "Epoch 92/100\n",
      "28/28 [==============================] - 0s 2ms/step - loss: 2.3285 - val_loss: 2.2832\n",
      "Epoch 93/100\n",
      "28/28 [==============================] - 0s 2ms/step - loss: 2.3216 - val_loss: 2.2953\n",
      "Epoch 94/100\n",
      "28/28 [==============================] - 0s 2ms/step - loss: 2.2975 - val_loss: 2.3521\n",
      "Epoch 95/100\n",
      "28/28 [==============================] - 0s 3ms/step - loss: 2.3378 - val_loss: 2.3166\n",
      "Epoch 96/100\n",
      "28/28 [==============================] - 0s 2ms/step - loss: 2.3435 - val_loss: 2.3407\n",
      "Epoch 97/100\n",
      "28/28 [==============================] - 0s 2ms/step - loss: 2.3489 - val_loss: 2.4008\n",
      "Epoch 98/100\n",
      "28/28 [==============================] - 0s 2ms/step - loss: 2.3463 - val_loss: 2.4423\n",
      "Epoch 99/100\n",
      "28/28 [==============================] - 0s 2ms/step - loss: 2.3215 - val_loss: 2.2958\n",
      "Epoch 100/100\n",
      "28/28 [==============================] - 0s 2ms/step - loss: 2.3137 - val_loss: 2.4183\n"
     ]
    },
    {
     "data": {
      "text/plain": [
       "<keras.callbacks.History at 0x215c3397400>"
      ]
     },
     "execution_count": 50,
     "metadata": {},
     "output_type": "execute_result"
    }
   ],
   "source": [
    "alcohol_model.fit( x_train,y_train,epochs=100,validation_split=0.2)"
   ]
  },
  {
   "cell_type": "code",
   "execution_count": 51,
   "metadata": {},
   "outputs": [
    {
     "ename": "AttributeError",
     "evalue": "Exception encountered when calling layer \"sequential_12\" (type Sequential).\n\n'tuple' object has no attribute 'rank'\n\nCall arguments received:\n  • inputs=      fixed acidity  volatile acidity  citric acid  residual sugar  chlorides  \\\n453            10.4              0.33         0.63            2.80      0.084   \n1415            6.2              0.58         0.00            1.60      0.065   \n1242            9.0              0.40         0.41            2.00      0.058   \n885             8.9              0.75         0.14            2.50      0.086   \n488            11.6              0.32         0.55            2.80      0.081   \n...             ...               ...          ...             ...        ...   \n34              5.2              0.32         0.25            1.80      0.103   \n1493            7.7              0.54         0.26            1.90      0.089   \n501            10.4              0.44         0.73            6.55      0.074   \n1464            6.8              0.59         0.10            1.70      0.063   \n911             9.1              0.28         0.46            9.00      0.114   \n\n      free sulfur dioxide  total sulfur dioxide  density    pH  sulphates  \\\n453                   5.0                  22.0  0.99980  3.26       0.74   \n1415                  8.0                  18.0  0.99660  3.56       0.84   \n1242                 15.0                  40.0  0.99414  3.22       0.60   \n885                   9.0                  30.0  0.99824  3.34       0.64   \n488                  35.0                  67.0  1.00020  3.32       0.92   \n...                   ...                   ...      ...   ...        ...   \n34                   13.0                  50.0  0.99570  3.38       0.55   \n1493                 23.0                 147.0  0.99636  3.26       0.59   \n501                  38.0                  76.0  0.99900  3.17       0.85   \n1464                 34.0                  53.0  0.99580  3.41       0.67   \n911                   3.0                   9.0  0.99901  3.18       0.60   \n\n      alcohol  \n453      11.2  \n1415      9.4  \n1242     12.2  \n885      10.5  \n488      10.8  \n...       ...  \n34        9.2  \n1493      9.7  \n501      12.0  \n1464      9.7  \n911      10.9  \n\n[480 rows x 11 columns]\n  • training=None\n  • mask=None",
     "output_type": "error",
     "traceback": [
      "\u001b[1;31m---------------------------------------------------------------------------\u001b[0m",
      "\u001b[1;31mAttributeError\u001b[0m                            Traceback (most recent call last)",
      "\u001b[1;32md:\\Rad\\SI\\TENSORFLOW\\zadaci\\2.ipynb Cell 12'\u001b[0m in \u001b[0;36m<cell line: 1>\u001b[1;34m()\u001b[0m\n\u001b[1;32m----> <a href='vscode-notebook-cell:/d%3A/Rad/SI/TENSORFLOW/zadaci/2.ipynb#ch0000013?line=0'>1</a>\u001b[0m y_pred\u001b[39m=\u001b[39malcohol_model(x_test)\n",
      "File \u001b[1;32m~\\AppData\\Local\\Programs\\Python\\Python310\\lib\\site-packages\\keras\\utils\\traceback_utils.py:67\u001b[0m, in \u001b[0;36mfilter_traceback.<locals>.error_handler\u001b[1;34m(*args, **kwargs)\u001b[0m\n\u001b[0;32m     <a href='file:///c%3A/Users/TAMARA/AppData/Local/Programs/Python/Python310/lib/site-packages/keras/utils/traceback_utils.py?line=64'>65</a>\u001b[0m \u001b[39mexcept\u001b[39;00m \u001b[39mException\u001b[39;00m \u001b[39mas\u001b[39;00m e:  \u001b[39m# pylint: disable=broad-except\u001b[39;00m\n\u001b[0;32m     <a href='file:///c%3A/Users/TAMARA/AppData/Local/Programs/Python/Python310/lib/site-packages/keras/utils/traceback_utils.py?line=65'>66</a>\u001b[0m   filtered_tb \u001b[39m=\u001b[39m _process_traceback_frames(e\u001b[39m.\u001b[39m__traceback__)\n\u001b[1;32m---> <a href='file:///c%3A/Users/TAMARA/AppData/Local/Programs/Python/Python310/lib/site-packages/keras/utils/traceback_utils.py?line=66'>67</a>\u001b[0m   \u001b[39mraise\u001b[39;00m e\u001b[39m.\u001b[39mwith_traceback(filtered_tb) \u001b[39mfrom\u001b[39;00m \u001b[39mNone\u001b[39m\n\u001b[0;32m     <a href='file:///c%3A/Users/TAMARA/AppData/Local/Programs/Python/Python310/lib/site-packages/keras/utils/traceback_utils.py?line=67'>68</a>\u001b[0m \u001b[39mfinally\u001b[39;00m:\n\u001b[0;32m     <a href='file:///c%3A/Users/TAMARA/AppData/Local/Programs/Python/Python310/lib/site-packages/keras/utils/traceback_utils.py?line=68'>69</a>\u001b[0m   \u001b[39mdel\u001b[39;00m filtered_tb\n",
      "File \u001b[1;32m~\\AppData\\Local\\Programs\\Python\\Python310\\lib\\site-packages\\keras\\engine\\input_spec.py:226\u001b[0m, in \u001b[0;36massert_input_compatibility\u001b[1;34m(input_spec, inputs, layer_name)\u001b[0m\n\u001b[0;32m    <a href='file:///c%3A/Users/TAMARA/AppData/Local/Programs/Python/Python310/lib/site-packages/keras/engine/input_spec.py?line=220'>221</a>\u001b[0m     \u001b[39mraise\u001b[39;00m \u001b[39mValueError\u001b[39;00m(\u001b[39mf\u001b[39m\u001b[39m'\u001b[39m\u001b[39mInput \u001b[39m\u001b[39m{\u001b[39;00minput_index\u001b[39m}\u001b[39;00m\u001b[39m of layer \u001b[39m\u001b[39m\"\u001b[39m\u001b[39m{\u001b[39;00mlayer_name\u001b[39m}\u001b[39;00m\u001b[39m\"\u001b[39m\u001b[39m \u001b[39m\u001b[39m'\u001b[39m\n\u001b[0;32m    <a href='file:///c%3A/Users/TAMARA/AppData/Local/Programs/Python/Python310/lib/site-packages/keras/engine/input_spec.py?line=221'>222</a>\u001b[0m                      \u001b[39m'\u001b[39m\u001b[39mis incompatible with the layer: \u001b[39m\u001b[39m'\u001b[39m\n\u001b[0;32m    <a href='file:///c%3A/Users/TAMARA/AppData/Local/Programs/Python/Python310/lib/site-packages/keras/engine/input_spec.py?line=222'>223</a>\u001b[0m                      \u001b[39mf\u001b[39m\u001b[39m'\u001b[39m\u001b[39mexpected max_ndim=\u001b[39m\u001b[39m{\u001b[39;00mspec\u001b[39m.\u001b[39mmax_ndim\u001b[39m}\u001b[39;00m\u001b[39m, \u001b[39m\u001b[39m'\u001b[39m\n\u001b[0;32m    <a href='file:///c%3A/Users/TAMARA/AppData/Local/Programs/Python/Python310/lib/site-packages/keras/engine/input_spec.py?line=223'>224</a>\u001b[0m                      \u001b[39mf\u001b[39m\u001b[39m'\u001b[39m\u001b[39mfound ndim=\u001b[39m\u001b[39m{\u001b[39;00mndim\u001b[39m}\u001b[39;00m\u001b[39m'\u001b[39m)\n\u001b[0;32m    <a href='file:///c%3A/Users/TAMARA/AppData/Local/Programs/Python/Python310/lib/site-packages/keras/engine/input_spec.py?line=224'>225</a>\u001b[0m \u001b[39mif\u001b[39;00m spec\u001b[39m.\u001b[39mmin_ndim \u001b[39mis\u001b[39;00m \u001b[39mnot\u001b[39;00m \u001b[39mNone\u001b[39;00m:\n\u001b[1;32m--> <a href='file:///c%3A/Users/TAMARA/AppData/Local/Programs/Python/Python310/lib/site-packages/keras/engine/input_spec.py?line=225'>226</a>\u001b[0m   ndim \u001b[39m=\u001b[39m x\u001b[39m.\u001b[39;49mshape\u001b[39m.\u001b[39;49mrank\n\u001b[0;32m    <a href='file:///c%3A/Users/TAMARA/AppData/Local/Programs/Python/Python310/lib/site-packages/keras/engine/input_spec.py?line=226'>227</a>\u001b[0m   \u001b[39mif\u001b[39;00m ndim \u001b[39mis\u001b[39;00m \u001b[39mnot\u001b[39;00m \u001b[39mNone\u001b[39;00m \u001b[39mand\u001b[39;00m ndim \u001b[39m<\u001b[39m spec\u001b[39m.\u001b[39mmin_ndim:\n\u001b[0;32m    <a href='file:///c%3A/Users/TAMARA/AppData/Local/Programs/Python/Python310/lib/site-packages/keras/engine/input_spec.py?line=227'>228</a>\u001b[0m     \u001b[39mraise\u001b[39;00m \u001b[39mValueError\u001b[39;00m(\u001b[39mf\u001b[39m\u001b[39m'\u001b[39m\u001b[39mInput \u001b[39m\u001b[39m{\u001b[39;00minput_index\u001b[39m}\u001b[39;00m\u001b[39m of layer \u001b[39m\u001b[39m\"\u001b[39m\u001b[39m{\u001b[39;00mlayer_name\u001b[39m}\u001b[39;00m\u001b[39m\"\u001b[39m\u001b[39m \u001b[39m\u001b[39m'\u001b[39m\n\u001b[0;32m    <a href='file:///c%3A/Users/TAMARA/AppData/Local/Programs/Python/Python310/lib/site-packages/keras/engine/input_spec.py?line=228'>229</a>\u001b[0m                      \u001b[39m'\u001b[39m\u001b[39mis incompatible with the layer: \u001b[39m\u001b[39m'\u001b[39m\n\u001b[0;32m    <a href='file:///c%3A/Users/TAMARA/AppData/Local/Programs/Python/Python310/lib/site-packages/keras/engine/input_spec.py?line=229'>230</a>\u001b[0m                      \u001b[39mf\u001b[39m\u001b[39m'\u001b[39m\u001b[39mexpected min_ndim=\u001b[39m\u001b[39m{\u001b[39;00mspec\u001b[39m.\u001b[39mmin_ndim\u001b[39m}\u001b[39;00m\u001b[39m, \u001b[39m\u001b[39m'\u001b[39m\n\u001b[0;32m    <a href='file:///c%3A/Users/TAMARA/AppData/Local/Programs/Python/Python310/lib/site-packages/keras/engine/input_spec.py?line=230'>231</a>\u001b[0m                      \u001b[39mf\u001b[39m\u001b[39m'\u001b[39m\u001b[39mfound ndim=\u001b[39m\u001b[39m{\u001b[39;00mndim\u001b[39m}\u001b[39;00m\u001b[39m. \u001b[39m\u001b[39m'\u001b[39m\n\u001b[0;32m    <a href='file:///c%3A/Users/TAMARA/AppData/Local/Programs/Python/Python310/lib/site-packages/keras/engine/input_spec.py?line=231'>232</a>\u001b[0m                      \u001b[39mf\u001b[39m\u001b[39m'\u001b[39m\u001b[39mFull shape received: \u001b[39m\u001b[39m{\u001b[39;00m\u001b[39mtuple\u001b[39m(shape)\u001b[39m}\u001b[39;00m\u001b[39m'\u001b[39m)\n",
      "\u001b[1;31mAttributeError\u001b[0m: Exception encountered when calling layer \"sequential_12\" (type Sequential).\n\n'tuple' object has no attribute 'rank'\n\nCall arguments received:\n  • inputs=      fixed acidity  volatile acidity  citric acid  residual sugar  chlorides  \\\n453            10.4              0.33         0.63            2.80      0.084   \n1415            6.2              0.58         0.00            1.60      0.065   \n1242            9.0              0.40         0.41            2.00      0.058   \n885             8.9              0.75         0.14            2.50      0.086   \n488            11.6              0.32         0.55            2.80      0.081   \n...             ...               ...          ...             ...        ...   \n34              5.2              0.32         0.25            1.80      0.103   \n1493            7.7              0.54         0.26            1.90      0.089   \n501            10.4              0.44         0.73            6.55      0.074   \n1464            6.8              0.59         0.10            1.70      0.063   \n911             9.1              0.28         0.46            9.00      0.114   \n\n      free sulfur dioxide  total sulfur dioxide  density    pH  sulphates  \\\n453                   5.0                  22.0  0.99980  3.26       0.74   \n1415                  8.0                  18.0  0.99660  3.56       0.84   \n1242                 15.0                  40.0  0.99414  3.22       0.60   \n885                   9.0                  30.0  0.99824  3.34       0.64   \n488                  35.0                  67.0  1.00020  3.32       0.92   \n...                   ...                   ...      ...   ...        ...   \n34                   13.0                  50.0  0.99570  3.38       0.55   \n1493                 23.0                 147.0  0.99636  3.26       0.59   \n501                  38.0                  76.0  0.99900  3.17       0.85   \n1464                 34.0                  53.0  0.99580  3.41       0.67   \n911                   3.0                   9.0  0.99901  3.18       0.60   \n\n      alcohol  \n453      11.2  \n1415      9.4  \n1242     12.2  \n885      10.5  \n488      10.8  \n...       ...  \n34        9.2  \n1493      9.7  \n501      12.0  \n1464      9.7  \n911      10.9  \n\n[480 rows x 11 columns]\n  • training=None\n  • mask=None"
     ]
    }
   ],
   "source": [
    "alcohol_model.evaluate(x_test, y_test)"
   ]
  },
  {
   "cell_type": "code",
   "execution_count": null,
   "metadata": {},
   "outputs": [],
   "source": [
    "tok=pd.DataFrame(progres.progres)\n",
    "tok['epoch']=progres.epoch\n",
    "print(tok)"
   ]
  }
 ],
 "metadata": {
  "interpreter": {
   "hash": "a93f175750059abc13a87c3bf357a09033a91b4f6c1a54ccd901c5d335f83c0c"
  },
  "kernelspec": {
   "display_name": "Python 3.10.2 64-bit",
   "language": "python",
   "name": "python3"
  },
  "language_info": {
   "codemirror_mode": {
    "name": "ipython",
    "version": 3
   },
   "file_extension": ".py",
   "mimetype": "text/x-python",
   "name": "python",
   "nbconvert_exporter": "python",
   "pygments_lexer": "ipython3",
   "version": "3.10.2"
  },
  "orig_nbformat": 4
 },
 "nbformat": 4,
 "nbformat_minor": 2
}
