{
  "nbformat": 4,
  "nbformat_minor": 0,
  "metadata": {
    "colab": {
      "name": "pytorch.ipynb",
      "provenance": [],
      "collapsed_sections": []
    },
    "kernelspec": {
      "name": "python3",
      "display_name": "Python 3"
    },
    "language_info": {
      "name": "python"
    },
    "accelerator": "GPU"
  },
  "cells": [
    {
      "cell_type": "code",
      "execution_count": null,
      "metadata": {
        "colab": {
          "base_uri": "https://localhost:8080/"
        },
        "id": "lxhgSo4rOWCg",
        "outputId": "5242373c-1d80-4a96-ef17-1243f7eea994"
      },
      "outputs": [
        {
          "output_type": "stream",
          "name": "stdout",
          "text": [
            "Requirement already satisfied: torch in /usr/local/lib/python3.7/dist-packages (1.10.0+cu111)\n",
            "Requirement already satisfied: typing-extensions in /usr/local/lib/python3.7/dist-packages (from torch) (3.10.0.2)\n"
          ]
        }
      ],
      "source": [
        "pip install torch"
      ]
    },
    {
      "cell_type": "code",
      "source": [
        "print(torch.__version__)"
      ],
      "metadata": {
        "colab": {
          "base_uri": "https://localhost:8080/"
        },
        "id": "458HSdE3WK68",
        "outputId": "be8888f7-f9ee-474f-b393-1d3545382b27"
      },
      "execution_count": null,
      "outputs": [
        {
          "output_type": "stream",
          "name": "stdout",
          "text": [
            "1.10.0+cu111\n"
          ]
        }
      ]
    },
    {
      "cell_type": "code",
      "source": [
        "import torch\n",
        "from torchvision import datasets, transforms\n",
        "\n",
        "import torch.nn as nn\n",
        "import torch.nn.functional as F\n",
        "\n",
        "import torch.optim as optim\n",
        "import matplotlib.pyplot as plt\n",
        "\n",
        "from tqdm import tqdm\n",
        "\n",
        "if torch.cuda.is_available():\n",
        "  device = torch.device(\"cuda:0\")\n",
        "  print(\"GPU\")\n",
        "else:\n",
        "  device = torch.device(\"cpu\")\n",
        "  print(\"CPU\")"
      ],
      "metadata": {
        "colab": {
          "base_uri": "https://localhost:8080/"
        },
        "id": "WoWY-yVoPKiI",
        "outputId": "707345d2-53fb-4b01-f417-0c5b2db0aafa"
      },
      "execution_count": null,
      "outputs": [
        {
          "output_type": "stream",
          "name": "stdout",
          "text": [
            "GPU\n"
          ]
        }
      ]
    },
    {
      "cell_type": "code",
      "source": [
        "class Network(nn.Module):\n",
        "  def __init__(self):\n",
        "    super().__init__()\n",
        "    self.input_layer = nn.Linear(784, 64)\n",
        "    self.hidden1 = nn.Linear(64, 64)\n",
        "    self.hidden2 = nn.Linear(64, 64)\n",
        "    self.output = nn.Linear(64, 10)\n",
        "\n",
        "  def forward(self, data):\n",
        "    data = F.relu(self.input_layer(data))\n",
        "    data = F.relu(self.hidden1(data))\n",
        "    data = F.relu(self.hidden2(data))\n",
        "    data = F.relu(self.output(data))\n",
        "\n",
        "    return F.log_softmax(data, dim=1)"
      ],
      "metadata": {
        "id": "zHPjts1vPjDo"
      },
      "execution_count": null,
      "outputs": []
    },
    {
      "cell_type": "code",
      "source": [
        "from torch.utils.data.dataset import T\n",
        "training = datasets.MNIST(\"\", train = True, download = True,\n",
        "                          transform = transforms.Compose([transforms.ToTensor()]))\n",
        "\n",
        "testing = datasets.MNIST(\"\", train = False, download = True,\n",
        "                          transform = transforms.Compose([transforms.ToTensor()]))\n",
        "\n",
        "train_set = torch.utils.data.DataLoader(training, batch_size=10, shuffle=True)\n",
        "test_set = torch.utils.data.DataLoader(testing, batch_size=10, shuffle=True)"
      ],
      "metadata": {
        "id": "Phj4o7piR4FU"
      },
      "execution_count": null,
      "outputs": []
    },
    {
      "cell_type": "code",
      "source": [
        "from torch.autograd import backward\n",
        "network = Network().to(device)\n",
        "learn_rate = optim.Adam(network.parameters(), lr=0.001)\n",
        "epochs = 4\n",
        "\n",
        "for i in tqdm(range(epochs)):\n",
        "  for data in train_set:\n",
        "    image, output = data\n",
        "    image = image.to(device)\n",
        "    output = output.to(device)\n",
        "    network.zero_grad()\n",
        "    result = network(image.view(-1, 784))\n",
        "    loss = F.nll_loss(result, output)\n",
        "    loss.backward()\n",
        "    learn_rate.step()\n",
        "  print(loss)\n"
      ],
      "metadata": {
        "colab": {
          "base_uri": "https://localhost:8080/"
        },
        "id": "eqIk--nMTYIm",
        "outputId": "44638ff7-e230-4f03-e4a7-cda5f75ea10d"
      },
      "execution_count": null,
      "outputs": [
        {
          "output_type": "stream",
          "name": "stderr",
          "text": [
            " 25%|██▌       | 1/4 [00:15<00:45, 15.29s/it]"
          ]
        },
        {
          "output_type": "stream",
          "name": "stdout",
          "text": [
            "tensor(0.7714, device='cuda:0', grad_fn=<NllLossBackward0>)\n"
          ]
        },
        {
          "output_type": "stream",
          "name": "stderr",
          "text": [
            "\r 50%|█████     | 2/4 [00:30<00:30, 15.16s/it]"
          ]
        },
        {
          "output_type": "stream",
          "name": "stdout",
          "text": [
            "tensor(0.9215, device='cuda:0', grad_fn=<NllLossBackward0>)\n"
          ]
        },
        {
          "output_type": "stream",
          "name": "stderr",
          "text": [
            "\r 75%|███████▌  | 3/4 [00:45<00:15, 15.05s/it]"
          ]
        },
        {
          "output_type": "stream",
          "name": "stdout",
          "text": [
            "tensor(1.3817, device='cuda:0', grad_fn=<NllLossBackward0>)\n"
          ]
        },
        {
          "output_type": "stream",
          "name": "stderr",
          "text": [
            "100%|██████████| 4/4 [01:00<00:00, 15.09s/it]"
          ]
        },
        {
          "output_type": "stream",
          "name": "stdout",
          "text": [
            "tensor(1.6124, device='cuda:0', grad_fn=<NllLossBackward0>)\n"
          ]
        },
        {
          "output_type": "stream",
          "name": "stderr",
          "text": [
            "\n"
          ]
        }
      ]
    },
    {
      "cell_type": "code",
      "source": [
        "# Test Network\n",
        "network.eval()\n",
        "\n",
        "correct = 0\n",
        "total = 0\n",
        "\n",
        "with torch.no_grad():\n",
        "  for data in test_set:\n",
        "    image, output = data\n",
        "    image = image.to(device)\n",
        "    output = output.to(device)\n",
        "    result = network(image.view(-1, 784))\n",
        "    for index, tensor_value in enumerate(result):\n",
        "      total += 1\n",
        "      if torch.argmax(tensor_value) == output[index]:\n",
        "        correct += 1\n",
        "\n",
        "accuracy = correct/total\n",
        "print(f\"Accuracy: {accuracy}\")"
      ],
      "metadata": {
        "colab": {
          "base_uri": "https://localhost:8080/"
        },
        "id": "fLRRyQnuYmRn",
        "outputId": "0dc1fc3c-bf92-40dc-fd3a-d7d0335fc94e"
      },
      "execution_count": null,
      "outputs": [
        {
          "output_type": "stream",
          "name": "stdout",
          "text": [
            "Accuracy: 0.7795\n"
          ]
        }
      ]
    },
    {
      "cell_type": "code",
      "source": [
        "from google.colab import drive\n",
        "drive.mount('/content/gdrive', force_remount=True)"
      ],
      "metadata": {
        "colab": {
          "base_uri": "https://localhost:8080/"
        },
        "id": "97UyaTsHcIft",
        "outputId": "be688931-b92b-4efb-b20e-12be438f03d8"
      },
      "execution_count": null,
      "outputs": [
        {
          "output_type": "stream",
          "name": "stdout",
          "text": [
            "Mounted at /content/gdrive\n"
          ]
        }
      ]
    },
    {
      "cell_type": "code",
      "source": [
        "!ls '/content/gdrive/My Drive/TestPytorch'"
      ],
      "metadata": {
        "colab": {
          "base_uri": "https://localhost:8080/"
        },
        "id": "RQop3IL3csZo",
        "outputId": "635017e3-b7d2-42a1-9e5c-72e6fefc2f73"
      },
      "execution_count": null,
      "outputs": [
        {
          "output_type": "stream",
          "name": "stdout",
          "text": [
            "5.png  7.png\n"
          ]
        }
      ]
    },
    {
      "cell_type": "code",
      "source": [
        "from PIL import Image\n",
        "import numpy as np\n",
        "import PIL.ImageOps\n",
        "\n",
        "img = Image.open(\"gdrive/My Drive/TestPytorch/5.png\")\n",
        "img = img.resize((28, 28))\n",
        "img = img.convert(\"L\")\n",
        "img = PIL.ImageOps.invert(img)\n",
        "\n",
        "plt.imshow(img)\n",
        "\n",
        "img = np.array(img)\n",
        "img = img / 255\n",
        "image = torch.from_numpy(img)\n",
        "image = image.float()\n",
        "image = image.to(device)\n",
        "\n",
        "res = network.forward(image.view(-1, 28*28))\n",
        "res = res.to(device)\n",
        "print(torch.argmax(output))"
      ],
      "metadata": {
        "colab": {
          "base_uri": "https://localhost:8080/",
          "height": 283
        },
        "id": "GMf65cgLdlfa",
        "outputId": "422c46d3-526c-402f-f7b9-cfa713d3fd72"
      },
      "execution_count": null,
      "outputs": [
        {
          "output_type": "stream",
          "name": "stdout",
          "text": [
            "tensor(6, device='cuda:0')\n"
          ]
        },
        {
          "output_type": "display_data",
          "data": {
            "image/png": "[encoded data removed]",
            "text/plain": [
              "<Figure size 432x288 with 1 Axes>"
            ]
          },
          "metadata": {
            "needs_background": "light"
          }
        }
      ]
    }
  ]
}